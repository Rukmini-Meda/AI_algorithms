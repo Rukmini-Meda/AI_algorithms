{
 "cells": [
  {
   "cell_type": "code",
   "execution_count": 1,
   "metadata": {},
   "outputs": [
    {
     "name": "stdout",
     "output_type": "stream",
     "text": [
      "         source               dest  dist\n",
      "0      Agartala             Aizawl   342\n",
      "1        Aizawl             Imphal   400\n",
      "2    Amaravathi          Bangalore   663\n",
      "3    Amaravathi            Chennai   448\n",
      "4    Amaravathi        Bhubaneswar   819\n",
      "5    Amaravathi             Raipur   758\n",
      "6     Bangalore             Panaji   578\n",
      "7     Bangalore            Chennai   333\n",
      "8     Bangalore  Thiruvanathapuram   730\n",
      "9     Bangalore             Mumbai   980\n",
      "10       Bhopal        Gandhinagar   599\n",
      "11  Bhubaneswar             Raipur   544\n",
      "12  Bhubaneswar             Ranchi   455\n",
      "13  Bhubaneswar            Kolkata   441\n",
      "14   Chandigarh            Lucknow   742\n",
      "15   Chandigarh             Jaipur   528\n",
      "16      Chennai  Thiruvanathapuram   771\n",
      "17     Dehradun            Lucknow   552\n",
      "18       Dispur           Shillong    91\n",
      "19       Dispur             Imphal   482\n",
      "20       Dispur             Aizawl   462\n",
      "21       Dispur           Agartala   536\n",
      "22       Dispur           Itanagar   323\n",
      "23       Dispur             Kohima   350\n",
      "24    Hyderabad         Amaravathi   271\n",
      "25    Hyderabad          Bangalore   569\n",
      "26    Hyderabad             Raipur   783\n",
      "27    Hyderabad             Mumbai   719\n",
      "28       Imphal             Kohima   136\n",
      "29       Jaipur        Gandhinagar   634\n",
      "30       Jaipur             Bhopal   598\n",
      "31       Kohima           Itanagar   323\n",
      "32      Kolkata             Ranchi   395\n",
      "33      Kolkata              Patna   583\n",
      "34      Kolkata            Gangtok   675\n",
      "35      Kolkata             Dispur  1035\n",
      "36      Lucknow             Jaipur   574\n",
      "37      Lucknow             Bhopal   615\n",
      "38      Lucknow             Ranchi   710\n",
      "39      Lucknow              Patna   539\n",
      "40       Mumbai             Panaji   542\n",
      "41       Mumbai        Gandhinagar   553\n",
      "42       Mumbai             Bhopal   776\n",
      "43        Patna             Ranchi   327\n",
      "44       Raipur             Mumbai  1091\n",
      "45       Raipur             Bhopal   614\n",
      "46       Raipur            Lucknow   810\n",
      "47       Raipur             Ranchi   580\n",
      "48       Shimla         Chandigarh   113\n",
      "49       Shimla           Dehradun   227\n",
      "50       Shimla            Lucknow   841\n",
      "51     Srinagar             Shimla   620\n",
      "52     Srinagar         Chandigarh   562\n"
     ]
    }
   ],
   "source": [
    "import pandas as pd\n",
    "data=pd.read_excel(\"Indian_capitals.xlsx\",names=[\"source\",\"dest\",\"dist\"],header=None)\n",
    "data=data.replace(to_replace =[\"Shimla \",\"Shimla\"],value =\"Shimla\")\n",
    "data=data.replace(to_replace =[\"Amaravati\",\"Amaravathi\"],value =\"Amaravathi\")\n",
    "print(data)"
   ]
  },
  {
   "cell_type": "code",
   "execution_count": 2,
   "metadata": {},
   "outputs": [
    {
     "name": "stdout",
     "output_type": "stream",
     "text": [
      "21\n",
      "{'Agartala': [['Aizawl', 342]], 'Aizawl': [['Imphal', 400]], 'Amaravathi': [['Bangalore', 663], ['Chennai', 448], ['Bhubaneswar', 819], ['Raipur', 758]], 'Bangalore': [['Panaji', 578], ['Chennai', 333], ['Thiruvanathapuram', 730], ['Mumbai', 980]], 'Bhopal': [['Gandhinagar', 599]], 'Bhubaneswar': [['Raipur', 544], ['Ranchi', 455], ['Kolkata', 441]], 'Chandigarh': [['Lucknow', 742], ['Jaipur', 528]], 'Chennai': [['Thiruvanathapuram', 771]], 'Dehradun': [['Lucknow', 552]], 'Dispur': [['Shillong', 91], ['Imphal', 482], ['Aizawl', 462], ['Agartala', 536], ['Itanagar', 323], ['Kohima', 350]], 'Hyderabad': [['Amaravathi', 271], ['Bangalore', 569], ['Raipur', 783], ['Mumbai', 719]], 'Imphal': [['Kohima', 136]], 'Jaipur': [['Gandhinagar', 634], ['Bhopal', 598]], 'Kohima': [['Itanagar', 323]], 'Kolkata': [['Ranchi', 395], ['Patna', 583], ['Gangtok', 675], ['Dispur', 1035]], 'Lucknow': [['Jaipur', 574], ['Bhopal', 615], ['Ranchi', 710], ['Patna', 539]], 'Mumbai': [['Panaji', 542], ['Gandhinagar', 553], ['Bhopal', 776]], 'Patna': [['Ranchi', 327]], 'Raipur': [['Mumbai', 1091], ['Bhopal', 614], ['Lucknow', 810], ['Ranchi', 580]], 'Shimla': [['Chandigarh', 113], ['Dehradun', 227], ['Lucknow', 841]], 'Srinagar': [['Shimla', 620], ['Chandigarh', 562]]}\n"
     ]
    }
   ],
   "source": [
    "dict_places={}\n",
    "print(len(data[\"source\"].unique()))\n",
    "for i in data[\"source\"].unique():\n",
    "    dict_places[i]=[[data[\"dest\"][j],data[\"dist\"][j]] for j in data[data[\"source\"]==i].index]\n",
    "print(dict_places)"
   ]
  },
  {
   "cell_type": "code",
   "execution_count": 3,
   "metadata": {},
   "outputs": [
    {
     "name": "stdout",
     "output_type": "stream",
     "text": [
      "26\n",
      "{'Aizawl': [['Agartala', 342], ['Dispur', 462]], 'Imphal': [['Aizawl', 400], ['Dispur', 482]], 'Bangalore': [['Amaravathi', 663], ['Hyderabad', 569]], 'Chennai': [['Amaravathi', 448], ['Bangalore', 333]], 'Bhubaneswar': [['Amaravathi', 819]], 'Raipur': [['Amaravathi', 758], ['Bhubaneswar', 544], ['Hyderabad', 783]], 'Panaji': [['Bangalore', 578], ['Mumbai', 542]], 'Thiruvanathapuram': [['Bangalore', 730], ['Chennai', 771]], 'Mumbai': [['Bangalore', 980], ['Hyderabad', 719], ['Raipur', 1091]], 'Gandhinagar': [['Bhopal', 599], ['Jaipur', 634], ['Mumbai', 553]], 'Ranchi': [['Bhubaneswar', 455], ['Kolkata', 395], ['Lucknow', 710], ['Patna', 327], ['Raipur', 580]], 'Kolkata': [['Bhubaneswar', 441]], 'Lucknow': [['Chandigarh', 742], ['Dehradun', 552], ['Raipur', 810], ['Shimla', 841]], 'Jaipur': [['Chandigarh', 528], ['Lucknow', 574]], 'Shillong': [['Dispur', 91]], 'Agartala': [['Dispur', 536]], 'Itanagar': [['Dispur', 323], ['Kohima', 323]], 'Kohima': [['Dispur', 350], ['Imphal', 136]], 'Amaravathi': [['Hyderabad', 271]], 'Bhopal': [['Jaipur', 598], ['Lucknow', 615], ['Mumbai', 776], ['Raipur', 614]], 'Patna': [['Kolkata', 583], ['Lucknow', 539]], 'Gangtok': [['Kolkata', 675]], 'Dispur': [['Kolkata', 1035]], 'Chandigarh': [['Shimla', 113], ['Srinagar', 562]], 'Dehradun': [['Shimla', 227]], 'Shimla': [['Srinagar', 620]]}\n"
     ]
    }
   ],
   "source": [
    "dict2={}\n",
    "print(len(data[\"dest\"].unique()))\n",
    "for i in data[\"dest\"].unique():\n",
    "    dict2[i]=[[data[\"source\"][j],data[\"dist\"][j]] for j in data[data[\"dest\"]==i].index]\n",
    "print(dict2)"
   ]
  },
  {
   "cell_type": "code",
   "execution_count": 4,
   "metadata": {},
   "outputs": [
    {
     "name": "stdout",
     "output_type": "stream",
     "text": [
      "{'Aizawl': [['Agartala', 342], ['Dispur', 462], ['Imphal', 400]], 'Imphal': [['Aizawl', 400], ['Dispur', 482], ['Kohima', 136]], 'Bangalore': [['Amaravathi', 663], ['Hyderabad', 569], ['Panaji', 578], ['Chennai', 333], ['Thiruvanathapuram', 730], ['Mumbai', 980]], 'Chennai': [['Amaravathi', 448], ['Bangalore', 333], ['Thiruvanathapuram', 771]], 'Bhubaneswar': [['Amaravathi', 819], ['Raipur', 544], ['Ranchi', 455], ['Kolkata', 441]], 'Raipur': [['Amaravathi', 758], ['Bhubaneswar', 544], ['Hyderabad', 783], ['Mumbai', 1091], ['Bhopal', 614], ['Lucknow', 810], ['Ranchi', 580]], 'Panaji': [['Bangalore', 578], ['Mumbai', 542]], 'Thiruvanathapuram': [['Bangalore', 730], ['Chennai', 771]], 'Mumbai': [['Bangalore', 980], ['Hyderabad', 719], ['Raipur', 1091], ['Panaji', 542], ['Gandhinagar', 553], ['Bhopal', 776]], 'Gandhinagar': [['Bhopal', 599], ['Jaipur', 634], ['Mumbai', 553]], 'Ranchi': [['Bhubaneswar', 455], ['Kolkata', 395], ['Lucknow', 710], ['Patna', 327], ['Raipur', 580]], 'Kolkata': [['Bhubaneswar', 441], ['Ranchi', 395], ['Patna', 583], ['Gangtok', 675], ['Dispur', 1035]], 'Lucknow': [['Chandigarh', 742], ['Dehradun', 552], ['Raipur', 810], ['Shimla', 841], ['Jaipur', 574], ['Bhopal', 615], ['Ranchi', 710], ['Patna', 539]], 'Jaipur': [['Chandigarh', 528], ['Lucknow', 574], ['Gandhinagar', 634], ['Bhopal', 598]], 'Shillong': [['Dispur', 91]], 'Agartala': [['Dispur', 536], ['Aizawl', 342]], 'Itanagar': [['Dispur', 323], ['Kohima', 323]], 'Kohima': [['Dispur', 350], ['Imphal', 136], ['Itanagar', 323]], 'Amaravathi': [['Hyderabad', 271], ['Bangalore', 663], ['Chennai', 448], ['Bhubaneswar', 819], ['Raipur', 758]], 'Bhopal': [['Jaipur', 598], ['Lucknow', 615], ['Mumbai', 776], ['Raipur', 614], ['Gandhinagar', 599]], 'Patna': [['Kolkata', 583], ['Lucknow', 539], ['Ranchi', 327]], 'Gangtok': [['Kolkata', 675]], 'Dispur': [['Kolkata', 1035], ['Shillong', 91], ['Imphal', 482], ['Aizawl', 462], ['Agartala', 536], ['Itanagar', 323], ['Kohima', 350]], 'Chandigarh': [['Shimla', 113], ['Srinagar', 562], ['Lucknow', 742], ['Jaipur', 528]], 'Dehradun': [['Shimla', 227], ['Lucknow', 552]], 'Shimla': [['Srinagar', 620], ['Chandigarh', 113], ['Dehradun', 227], ['Lucknow', 841]], 'Hyderabad': [['Chandigarh', 113], ['Dehradun', 227], ['Lucknow', 841]], 'Srinagar': [['Chandigarh', 113], ['Dehradun', 227], ['Lucknow', 841]]}\n"
     ]
    }
   ],
   "source": [
    "dic={}\n",
    "for key1 in dict2.keys():\n",
    "    if key1 in dict_places.keys():\n",
    "        dic[key1]=[node for node in dict2[key1]+dict_places[key1]]\n",
    "    else:\n",
    "        dic[key1]=[node for node in dict2[key1]]\n",
    "\n",
    "for key2 in dict_places.keys():\n",
    "    if key2 not in dict2.keys():\n",
    "        dic[key2]=[node for node in dict_places[key1]]\n",
    "print(dic)"
   ]
  },
  {
   "cell_type": "code",
   "execution_count": null,
   "metadata": {},
   "outputs": [],
   "source": []
  },
  {
   "cell_type": "code",
   "execution_count": 5,
   "metadata": {},
   "outputs": [],
   "source": [
    "class Problem:\n",
    "    def __init__(self,initial_state,data,goal=None):\n",
    "        self.initial_state=initial_state\n",
    "        self.goal=goal\n",
    "        self.data=data\n",
    "        \n",
    "    def actions(self,state):\n",
    "        action=[place[0] for place in self.data[state]]\n",
    "        return action\n",
    "        \n",
    "    \n",
    "    def result(self,state,action):\n",
    "        return action\n",
    "    \n",
    "    def goalTest(self,state):\n",
    "        if state==self.goal:\n",
    "            return True\n",
    "        else:\n",
    "            return False\n",
    "        \n",
    "            \n",
    "    def pathCost(self,state1,action,state2):\n",
    "        state2.pathCost=state1.pathcost+self.stepCost(state1,action)\n"
   ]
  },
  {
   "cell_type": "code",
   "execution_count": 6,
   "metadata": {},
   "outputs": [],
   "source": [
    "from locationiq.geocoder import LocationIQ\n",
    "from math import radians, sin, cos, acos\n",
    "import json\n",
    "geocoder = LocationIQ(\"63f10cc6adcf8c\")"
   ]
  },
  {
   "cell_type": "code",
   "execution_count": 7,
   "metadata": {},
   "outputs": [],
   "source": [
    "def find_shortest(place1,place2):\n",
    "    bg = geocoder.geocode(place1)[0]\n",
    "    ch = geocoder.geocode(place2)[0]\n",
    "    slat = radians(float(bg['lat']))\n",
    "    slon = radians(float(bg['lon']))\n",
    "    elat = radians(float(ch['lat']))\n",
    "    elon = radians(float(ch['lon']))\n",
    "    dist = 6371.01 * acos(sin(slat)*sin(elat)+cos(slat)*cos(elat)*cos(slon-elon))\n",
    "    return dist"
   ]
  },
  {
   "cell_type": "code",
   "execution_count": 8,
   "metadata": {},
   "outputs": [],
   "source": [
    "class Node:\n",
    "    def __init__(self,state,parent=None,action=None,path_cost=0,heuristic=0,fvalue=0):\n",
    "        self.state=state\n",
    "        self.parent=parent\n",
    "        self.action=action\n",
    "        self.path_cost=path_cost\n",
    "        self.heuristic=heuristic\n",
    "        self.fvalue=fvalue\n",
    "        if parent!=None:\n",
    "            self.path_cost=self.parent.path_cost+self.stepCost(self.parent,action)\n",
    "    \n",
    "    def __lt__(self,other):\n",
    "        return self.state<other.state\n",
    "    \n",
    "    def solution(self):\n",
    "        sol=[]\n",
    "        while self!=None:\n",
    "            if self.action==None:\n",
    "                sol.append(self.state)\n",
    "            else:\n",
    "                sol.append(self.action)\n",
    "            self=self.parent\n",
    "        return sol\n",
    "        \n",
    "    def stepCost(self,state,action):\n",
    "        for i in self.data[state]:\n",
    "            if i[0]==action:\n",
    "                return i[1]\n",
    "\n",
    "    \n",
    "    def child_node(self,problem,action):\n",
    "        state=problem.result(self.state,action)\n",
    "        childNode=Node(state)\n",
    "        childNode.parent=self\n",
    "        childNode.action=action\n",
    "        return childNode\n",
    "\n",
    "    def find_heuristic(self,problem):\n",
    "        self.heuristic=find_shortest(self.state,problem.goal)\n",
    "               \n",
    "    def find_fvalue(self,problem):\n",
    "        self.find_heuristic(problem)\n",
    "        self.fvalue=self.path_cost+self.heuristic\n",
    "        \n",
    "        "
   ]
  },
  {
   "cell_type": "code",
   "execution_count": 9,
   "metadata": {},
   "outputs": [],
   "source": [
    "import heapq"
   ]
  },
  {
   "cell_type": "code",
   "execution_count": 10,
   "metadata": {},
   "outputs": [],
   "source": [
    "def breadth_first_graph_search(problem):\n",
    "    node1=Node(problem.initial_state)\n",
    "    if problem.goalTest(node1.state):\n",
    "        return node1.solution()[::-1]\n",
    "    frontier=[]\n",
    "    frontier.append(node1)\n",
    "    explored_set=set()        \n",
    "    while frontier:\n",
    "        temp=frontier.pop(0)\n",
    "        explored_set.add(temp)\n",
    "        lis_act=problem.actions(temp.state)\n",
    "        for act in lis_act:\n",
    "            child=temp.child_node(problem,act)\n",
    "            if child.state not in [node2.state for node2 in frontier] and child.state not in [node3.state for node3 in explored_set]:\n",
    "                if problem.goalTest(child.state):\n",
    "                    return child.solution()[::-1]\n",
    "                frontier.append(child)\n",
    "    "
   ]
  },
  {
   "cell_type": "code",
   "execution_count": 11,
   "metadata": {},
   "outputs": [],
   "source": [
    "def depth_first_graph_search(problem):\n",
    "    node1=Node(problem.initial_state)\n",
    "    frontier=[]\n",
    "    frontier.append(node1)\n",
    "    explored_set=set()\n",
    "    while frontier:\n",
    "        temp=frontier.pop()\n",
    "        if problem.goalTest(temp.state):\n",
    "            return temp.solution()[::-1]\n",
    "        explored_set.add(temp)\n",
    "        lis_act=problem.actions(temp.state)\n",
    "        for act in lis_act:\n",
    "            child=temp.child_node(problem,act)\n",
    "            if child.state not in [node2.state for node2 in frontier] and child.state not in [node3.state for node3 in explored_set]:\n",
    "                frontier.append(child)\n",
    "    "
   ]
  },
  {
   "cell_type": "code",
   "execution_count": 12,
   "metadata": {},
   "outputs": [],
   "source": [
    "def A_star_algorithm(problem):\n",
    "    node1=Node(problem.initial_state)\n",
    "    node1.find_fvalue(problem)\n",
    "    frontier=[]\n",
    "    heapq.heappush(frontier,(node1.fvalue,node1))\n",
    "    explored_set=set()\n",
    "    while frontier:\n",
    "        temp=heapq.heappop(frontier)\n",
    "        if problem.goalTest(temp[1].state):\n",
    "            return temp[1].solution()[::-1]\n",
    "        explored_set.add(temp[1])\n",
    "        lis_act=problem.actions(temp[1].state)\n",
    "        for act in lis_act:\n",
    "            child=temp[1].child_node(problem,act)\n",
    "            child.find_fvalue(problem)\n",
    "            if child.state not in [nodex[1].state for nodex in frontier] and child.state not in [noder.state for noder in explored_set]:\n",
    "                heapq.heappush(frontier,(child.fvalue,child))\n",
    "    "
   ]
  },
  {
   "cell_type": "code",
   "execution_count": 13,
   "metadata": {},
   "outputs": [],
   "source": [
    "def Bidirectional_search(problem):\n",
    "    problem1=Problem(problem.initial_state,problem.data,problem.goal)\n",
    "    problem2=Problem(problem.goal,problem.data,problem.initial_state)\n",
    "    node1=Node(problem1.initial_state)\n",
    "    node2=Node(problem2.initial_state)\n",
    "    if problem1.goalTest(node1.state):\n",
    "        action1= node1.solution()\n",
    "    if problem2.goalTest(node2.state):\n",
    "        action2=node2.solution()\n",
    "    frontier1=[]\n",
    "    frontier1.append(node1)\n",
    "    explored_set1=set()\n",
    "    frontier2=[]\n",
    "    frontier2.append(node2)\n",
    "    explored_set2=set()    \n",
    "    while frontier1 and frontier2 and len([i.state for i in frontier1 for j in frontier2 if i.state==j.state])==0:\n",
    "        temp1=frontier1.pop(0)\n",
    "        explored_set1.add(temp1)\n",
    "        temp2=frontier2.pop(0)\n",
    "        explored_set2.add(temp2)\n",
    "        lis_act1=problem1.actions(temp1.state)\n",
    "        lis_act2=problem2.actions(temp2.state)\n",
    "        action1=[]\n",
    "        for act1 in lis_act1:\n",
    "            child1=temp1.child_node(problem1,act1)\n",
    "            if child1.state not in [node2.state for node2 in frontier1] and child1.state not in [node3.state for node3 in explored_set1]:\n",
    "                if problem1.goalTest(child1.state):\n",
    "                    action1= child1.solution()\n",
    "                    break\n",
    "                frontier1.append(child1)\n",
    "        action2=[]\n",
    "        for act2 in lis_act2:\n",
    "            child2=temp2.child_node(problem2,act2)\n",
    "            if child2.state not in [node2.state for node2 in frontier2] and child2.state not in [node3.state for node3 in explored_set2]:\n",
    "                if problem2.goalTest(child2.state):\n",
    "                    action2= child2.solution()\n",
    "                    break\n",
    "                frontier2.append(child2)\n",
    "    action=[]\n",
    "    if not frontier1 or not frontier2:\n",
    "        action=action1+action2\n",
    "    else:\n",
    "        for i in frontier1:\n",
    "            for j in frontier2:\n",
    "                if i.state==j.state:\n",
    "                    action=i.solution()[::-1]+j.solution()[1:]\n",
    "                    break\n",
    "    return action\n",
    "    "
   ]
  },
  {
   "cell_type": "code",
   "execution_count": 14,
   "metadata": {},
   "outputs": [],
   "source": [
    "class SimpleProblemSolvingAgent:\n",
    "    def __init__(self,initial_state=None,data={}):\n",
    "        self.initial_state=initial_state\n",
    "        self.seq=[]\n",
    "        self.data=data\n",
    "        \n",
    "    def update_state(self,percept):\n",
    "        return percept\n",
    "    \n",
    "    def formulate_goal(self,state):\n",
    "        return \"Kolkata\"\n",
    "    \n",
    "    def formulate_problem(self,goal):\n",
    "        return Problem(self.initial_state,self.data,goal)\n",
    "    \n",
    "    def search(self,problem,mode=\"BFS\"):\n",
    "        if mode==\"BFS\":\n",
    "            sequence=breadth_first_graph_search(problem)   \n",
    "        elif mode==\"DFS\":\n",
    "            sequence=depth_first_graph_search(problem)\n",
    "        elif mode==\"A*\":\n",
    "            sequence=A_star_algorithm(problem)\n",
    "        elif mode==\"Bidirectional\":\n",
    "            sequence=Bidirectional_search(problem)\n",
    "        else:\n",
    "            print(\"Invalid mode!\")\n",
    "        return sequence\n",
    "            \n",
    "    def solve(self,percept):\n",
    "        state=self.update_state(percept)\n",
    "        if not self.seq:\n",
    "            goal=self.formulate_goal(state)\n",
    "            problem=self.formulate_problem(goal)\n",
    "            self.seq=self.search(problem,\"A*\")\n",
    "            if not self.seq:\n",
    "                return None\n",
    "        return self.seq\n",
    "\n"
   ]
  },
  {
   "cell_type": "code",
   "execution_count": 15,
   "metadata": {},
   "outputs": [
    {
     "name": "stdout",
     "output_type": "stream",
     "text": [
      "['Agartala', 'Dispur', 'Kolkata']\n"
     ]
    }
   ],
   "source": [
    "state=\"Agartala\"\n",
    "agent=SimpleProblemSolvingAgent(state,dic)\n",
    "lis=agent.solve(state)\n",
    "print(lis)"
   ]
  },
  {
   "cell_type": "code",
   "execution_count": null,
   "metadata": {},
   "outputs": [],
   "source": []
  },
  {
   "cell_type": "code",
   "execution_count": null,
   "metadata": {},
   "outputs": [],
   "source": []
  }
 ],
 "metadata": {
  "kernelspec": {
   "display_name": "Python 3",
   "language": "python",
   "name": "python3"
  },
  "language_info": {
   "codemirror_mode": {
    "name": "ipython",
    "version": 3
   },
   "file_extension": ".py",
   "mimetype": "text/x-python",
   "name": "python",
   "nbconvert_exporter": "python",
   "pygments_lexer": "ipython3",
   "version": "3.8.1"
  }
 },
 "nbformat": 4,
 "nbformat_minor": 4
}
