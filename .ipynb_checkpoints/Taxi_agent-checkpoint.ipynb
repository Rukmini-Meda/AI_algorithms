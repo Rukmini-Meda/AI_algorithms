{
 "cells": [
  {
   "cell_type": "code",
   "execution_count": 1,
   "metadata": {},
   "outputs": [
    {
     "name": "stdout",
     "output_type": "stream",
     "text": [
      "         source               dest  dist\n",
      "0      Agartala             Aizawl   342\n",
      "1        Aizawl             Imphal   400\n",
      "2    Amaravathi          Bangalore   663\n",
      "3    Amaravathi            Chennai   448\n",
      "4    Amaravathi        Bhubaneswar   819\n",
      "5    Amaravathi             Raipur   758\n",
      "6     Bangalore             Panaji   578\n",
      "7     Bangalore            Chennai   333\n",
      "8     Bangalore  Thiruvanathapuram   730\n",
      "9     Bangalore             Mumbai   980\n",
      "10       Bhopal        Gandhinagar   599\n",
      "11  Bhubaneswar             Raipur   544\n",
      "12  Bhubaneswar             Ranchi   455\n",
      "13  Bhubaneswar            Kolkata   441\n",
      "14   Chandigarh            Lucknow   742\n",
      "15   Chandigarh             Jaipur   528\n",
      "16      Chennai  Thiruvanathapuram   771\n",
      "17     Dehradun            Lucknow   552\n",
      "18       Dispur           Shillong    91\n",
      "19       Dispur             Imphal   482\n",
      "20       Dispur             Aizawl   462\n",
      "21       Dispur           Agartala   536\n",
      "22       Dispur           Itanagar   323\n",
      "23       Dispur             Kohima   350\n",
      "24    Hyderabad         Amaravathi   271\n",
      "25    Hyderabad          Bangalore   569\n",
      "26    Hyderabad             Raipur   783\n",
      "27    Hyderabad             Mumbai   719\n",
      "28       Imphal             Kohima   136\n",
      "29       Jaipur        Gandhinagar   634\n",
      "30       Jaipur             Bhopal   598\n",
      "31       Kohima           Itanagar   323\n",
      "32      Kolkata             Ranchi   395\n",
      "33      Kolkata              Patna   583\n",
      "34      Kolkata            Gangtok   675\n",
      "35      Kolkata             Dispur  1035\n",
      "36      Lucknow             Jaipur   574\n",
      "37      Lucknow             Bhopal   615\n",
      "38      Lucknow             Ranchi   710\n",
      "39      Lucknow              Patna   539\n",
      "40       Mumbai             Panaji   542\n",
      "41       Mumbai        Gandhinagar   553\n",
      "42       Mumbai             Bhopal   776\n",
      "43        Patna             Ranchi   327\n",
      "44       Raipur             Mumbai  1091\n",
      "45       Raipur             Bhopal   614\n",
      "46       Raipur            Lucknow   810\n",
      "47       Raipur             Ranchi   580\n",
      "48       Shimla         Chandigarh   113\n",
      "49       Shimla           Dehradun   227\n",
      "50       Shimla            Lucknow   841\n",
      "51     Srinagar             Shimla   620\n",
      "52     Srinagar         Chandigarh   562\n"
     ]
    }
   ],
   "source": [
    "import pandas as pd\n",
    "data=pd.read_excel(\"Indian_capitals.xlsx\",names=[\"source\",\"dest\",\"dist\"],header=None)\n",
    "data=data.replace(to_replace =[\"Shimla \",\"Shimla\"],value =\"Shimla\")\n",
    "data=data.replace(to_replace =[\"Amaravati\",\"Amaravathi\"],value =\"Amaravathi\")\n",
    "print(data)"
   ]
  },
  {
   "cell_type": "code",
   "execution_count": 2,
   "metadata": {},
   "outputs": [
    {
     "name": "stdout",
     "output_type": "stream",
     "text": [
      "21\n",
      "21\n",
      "dict_keys(['Agartala', 'Aizawl', 'Amaravathi', 'Bangalore', 'Bhopal', 'Bhubaneswar', 'Chandigarh', 'Chennai', 'Dehradun', 'Dispur', 'Hyderabad', 'Imphal', 'Jaipur', 'Kohima', 'Kolkata', 'Lucknow', 'Mumbai', 'Patna', 'Raipur', 'Shimla', 'Srinagar'])\n"
     ]
    }
   ],
   "source": [
    "dict_places={}\n",
    "print(len(data[\"source\"].unique()))\n",
    "for i in data[\"source\"].unique():\n",
    "    dict_places[i]=[[data[\"dest\"][j],data[\"dist\"][j]] for j in data[data[\"source\"]==i].index]\n",
    "print(len(dict_places))\n",
    "# print(dict_places)\n",
    "print(dict_places.keys())"
   ]
  },
  {
   "cell_type": "code",
   "execution_count": 3,
   "metadata": {},
   "outputs": [
    {
     "name": "stdout",
     "output_type": "stream",
     "text": [
      "26\n",
      "26\n"
     ]
    }
   ],
   "source": [
    "dict2={}\n",
    "print(len(data[\"dest\"].unique()))\n",
    "for i in data[\"dest\"].unique():\n",
    "    dict2[i]=[[data[\"source\"][j],data[\"dist\"][j]] for j in data[data[\"dest\"]==i].index]\n",
    "print(len(dict2))\n",
    "# print(dict2,end=\"\\n\")\n",
    "# print(dict2.keys())\n",
    "# print(dict)"
   ]
  },
  {
   "cell_type": "code",
   "execution_count": 4,
   "metadata": {},
   "outputs": [
    {
     "name": "stdout",
     "output_type": "stream",
     "text": [
      "28\n",
      "[['Jaipur', 598], ['Lucknow', 615], ['Mumbai', 776], ['Raipur', 614], ['Gandhinagar', 599]]\n",
      "[['Bangalore', 980], ['Hyderabad', 719], ['Raipur', 1091], ['Panaji', 542], ['Gandhinagar', 553], ['Bhopal', 776]]\n"
     ]
    }
   ],
   "source": [
    "dic={}\n",
    "for key1 in dict2.keys():\n",
    "    if key1 in dict_places.keys():\n",
    "        dic[key1]=[node for node in dict2[key1]+dict_places[key1]]\n",
    "    else:\n",
    "        dic[key1]=[node for node in dict2[key1]]\n",
    "\n",
    "for key2 in dict_places.keys():\n",
    "    if key2 not in dict2.keys():\n",
    "        dic[key2]=[node for node in dict_places[key1]]\n",
    "print(len(dic))\n",
    "# print(dic)\n",
    "# print(dic.keys())\n",
    "print(dic[\"Bhopal\"])\n",
    "print(dic[\"Mumbai\"])"
   ]
  },
  {
   "cell_type": "code",
   "execution_count": null,
   "metadata": {},
   "outputs": [],
   "source": []
  },
  {
   "cell_type": "code",
   "execution_count": 5,
   "metadata": {},
   "outputs": [],
   "source": [
    "class Problem:\n",
    "    def __init__(self,initial_state,data,goal=None):\n",
    "        self.initial_state=initial_state\n",
    "        self.goal=goal\n",
    "        self.data=data\n",
    "        \n",
    "    def actions(self,state):\n",
    "#         print(self.data[state])\n",
    "        action=[place[0] for place in self.data[state]]\n",
    "        return action\n",
    "        \n",
    "    \n",
    "    def result(self,state,action):\n",
    "        return action\n",
    "    \n",
    "    def goalTest(self,state):\n",
    "        if state==self.goal:\n",
    "            return True\n",
    "        else:\n",
    "            return False\n",
    "        \n",
    "            \n",
    "    def pathCost(self,state1,action,state2):\n",
    "        state2.pathCost=state1.pathcost+self.stepCost(state1,action)\n"
   ]
  },
  {
   "cell_type": "code",
   "execution_count": 6,
   "metadata": {},
   "outputs": [],
   "source": [
    "from locationiq.geocoder import LocationIQ\n",
    "from math import radians, sin, cos, acos\n",
    "import json\n",
    "geocoder = LocationIQ(\"63f10cc6adcf8c\")\n",
    "    "
   ]
  },
  {
   "cell_type": "code",
   "execution_count": 7,
   "metadata": {},
   "outputs": [],
   "source": [
    "def find_shortest(place1,place2):\n",
    "    bg = geocoder.geocode(place1)[0]\n",
    "    ch = geocoder.geocode(place2)[0]\n",
    "    slat = radians(float(bg['lat']))\n",
    "    slon = radians(float(bg['lon']))\n",
    "    elat = radians(float(ch['lat']))\n",
    "    elon = radians(float(ch['lon']))\n",
    "    dist = 6371.01 * acos(sin(slat)*sin(elat)+cos(slat)*cos(elat)*cos(slon-elon))\n",
    "#     print(\"The distance is %.2fkm.\" % dist)\n",
    "    return dist"
   ]
  },
  {
   "cell_type": "code",
   "execution_count": 8,
   "metadata": {},
   "outputs": [],
   "source": [
    "class Node:\n",
    "    def __init__(self,state,parent=None,action=None,path_cost=0,heuristic=0,fvalue=0):\n",
    "        self.state=state\n",
    "        self.parent=parent\n",
    "        self.action=action\n",
    "        self.path_cost=path_cost\n",
    "        self.heuristic=heuristic\n",
    "        self.fvalue=fvalue\n",
    "        if parent!=None:\n",
    "            self.path_cost=self.parent.path_cost+self.stepCost(self.parent,action)\n",
    "    \n",
    "#     def __lt__(self,other):\n",
    "#         return self.state<other.state\n",
    "    \n",
    "    def solution(self):\n",
    "        sol=[]\n",
    "        while self.parent!=None:\n",
    "            sol.append(self.action)\n",
    "            self=self.parent\n",
    "        return sol\n",
    "        \n",
    "    def stepCost(self,state,action):\n",
    "        for i in self.data[state]:\n",
    "            if i[0]==action:\n",
    "                return i[1]\n",
    "\n",
    "    \n",
    "    def child_node(self,problem,action):\n",
    "        state=problem.result(self.state,action)\n",
    "#         pc=self.path_cost+problem.stepCost(self.state,action)\n",
    "#         print(state)\n",
    "#         print(action)\n",
    "        childNode=Node(state)\n",
    "        childNode.parent=self\n",
    "        childNode.action=action\n",
    "#         print(\"parent's action \",childNode.action)\n",
    "        return childNode\n",
    "\n",
    "    def find_heuristic(self,problem):\n",
    "        self.heuristic=find_shortest(self.state,problem.goal)\n",
    "        \n",
    "        \n",
    "    def find_fvalue(self,problem):\n",
    "        self.find_heuristic(problem)\n",
    "        self.fvalue=self.path_cost+self.heuristic\n",
    "        \n",
    "        "
   ]
  },
  {
   "cell_type": "code",
   "execution_count": 9,
   "metadata": {},
   "outputs": [],
   "source": [
    "import heapq"
   ]
  },
  {
   "cell_type": "code",
   "execution_count": 10,
   "metadata": {},
   "outputs": [],
   "source": [
    "class SimpleProblemSolvingAgent:\n",
    "    def __init__(self,initial_state=None,data={}):\n",
    "        self.initial_state=initial_state\n",
    "        self.seq=[]\n",
    "        self.data=data\n",
    "        \n",
    "    def update_state(self,percept):\n",
    "        return percept\n",
    "    \n",
    "    def formulate_goal(self,state):\n",
    "        return \"Bangalore\"\n",
    "    \n",
    "    def formulate_problem(self,goal):\n",
    "        return Problem(self.initial_state,self.data,goal)\n",
    "    \n",
    "    def search(self,problem,mode):\n",
    "        if mode==\"BFS\":\n",
    "            node1=Node(problem.initial_state)\n",
    "            if problem.goalTest(node1.state):\n",
    "                return node1.solution()\n",
    "            frontier=[]\n",
    "            frontier.append(node1)\n",
    "            explored_set=set()\n",
    "#             print(\"frontier - \",[nodex.state for nodex in frontier])\n",
    "#             print(\"explored - \",[nodee.state for nodee in explored_set])\n",
    "                \n",
    "            while frontier:\n",
    "                temp=frontier.pop(0)\n",
    "                explored_set.add(temp)\n",
    "#                 print(\"frontier - \",[nodex.state for nodex in frontier])\n",
    "#                 print(\"explored - \",[nodee.state for nodee in explored_set])\n",
    "                lis_act=problem.actions(temp.state)\n",
    "#                 print(lis_act)\n",
    "                for act in lis_act:\n",
    "#                     print(act)\n",
    "#                     print(\"Node is -\",temp.state)\n",
    "                    child=temp.child_node(problem,act)\n",
    "                    if child.state not in [node2.state for node2 in frontier] and child.state not in [node3.state for node3 in explored_set]:\n",
    "                        if problem.goalTest(child.state):\n",
    "#                             print(child.solution())\n",
    "                            return child.solution()\n",
    "                        frontier.append(child)\n",
    "        elif mode==\"DFS\":\n",
    "            node1=Node(problem.initial_state)\n",
    "#             print(node1.state)\n",
    "            frontier=[]\n",
    "            frontier.append(node1)\n",
    "            explored_set=set()\n",
    "#             print(\"frontier - \",[nodex.state for nodex in frontier])\n",
    "#             print(\"explored - \",[nodet.state for nodet in explored_set])\n",
    "            while frontier:\n",
    "                temp=frontier.pop()\n",
    "                if problem.goalTest(temp.state):\n",
    "                    return temp.solution()\n",
    "                explored_set.add(temp)\n",
    "#                 print(\"frontier - \",[nodex.state for nodex in frontier])\n",
    "#                 print(\"explored - \",[nodet.state for nodet in explored_set])\n",
    "                lis_act=problem.actions(temp.state)\n",
    "#                 print(lis_act)\n",
    "                for act in lis_act:\n",
    "#                     print(act)\n",
    "#                     print(temp.state)\n",
    "                    child=temp.child_node(problem,act)\n",
    "#                     print(child.state)\n",
    "                    if child.state not in [node2.state for node2 in frontier] and child.state not in [node3.state for node3 in explored_set]:\n",
    "                        frontier.append(child)\n",
    "#                     print(\"frontier - \",[nodex.state for nodex in frontier])\n",
    "#                     print(\"explored - \",[nodet.state for nodet in explored_set])\n",
    "        elif mode==\"A*\":\n",
    "            node1=Node(problem.initial_state)\n",
    "            node1.find_fvalue(problem)\n",
    "            frontier=[]\n",
    "            heapq.heappush(frontier,(node1.fvalue,node1))\n",
    "            explored_set=set()\n",
    "            while frontier:\n",
    "                temp=heapq.heappop(frontier)\n",
    "                if problem.goalTest(temp[1].state):\n",
    "                    return temp[1].solution()\n",
    "                explored_set.add(temp[1])\n",
    "                lis_act=problem.actions(temp[1].state)\n",
    "                for act in lis_act:\n",
    "                    child=temp[1].child_node(problem,act)\n",
    "                    child.find_fvalue(problem)\n",
    "                    if child.state not in [nodex[1].state for nodex in frontier] and child.state not in [noder.state for noder in explored_set]:\n",
    "                        heapq.heappush(frontier,(child.fvalue,child))\n",
    "            \n",
    "    def solve(self,percept):\n",
    "        state=self.update_state(percept)\n",
    "        if not self.seq:\n",
    "#             print(\"###\")\n",
    "            goal=self.formulate_goal(state)\n",
    "            problem=self.formulate_problem(goal)\n",
    "            self.seq=self.search(problem,\"A*\")\n",
    "            if not self.seq:\n",
    "                return None\n",
    "        return self.seq\n",
    "\n"
   ]
  },
  {
   "cell_type": "code",
   "execution_count": 11,
   "metadata": {},
   "outputs": [
    {
     "name": "stdout",
     "output_type": "stream",
     "text": [
      "Aizawl\n",
      "Node has fvalue  None\n"
     ]
    },
    {
     "ename": "AttributeError",
     "evalue": "'tuple' object has no attribute 'state'",
     "output_type": "error",
     "traceback": [
      "\u001b[1;31m---------------------------------------------------------------------------\u001b[0m",
      "\u001b[1;31mAttributeError\u001b[0m                            Traceback (most recent call last)",
      "\u001b[1;32m<ipython-input-11-3f70677a86f6>\u001b[0m in \u001b[0;36m<module>\u001b[1;34m\u001b[0m\n\u001b[0;32m      2\u001b[0m \u001b[1;31m# state=[[1,3,4],[8,0,5],[7,2,6]]\u001b[0m\u001b[1;33m\u001b[0m\u001b[1;33m\u001b[0m\u001b[1;33m\u001b[0m\u001b[0m\n\u001b[0;32m      3\u001b[0m \u001b[0magent\u001b[0m\u001b[1;33m=\u001b[0m\u001b[0mSimpleProblemSolvingAgent\u001b[0m\u001b[1;33m(\u001b[0m\u001b[0mstate\u001b[0m\u001b[1;33m,\u001b[0m\u001b[0mdic\u001b[0m\u001b[1;33m)\u001b[0m\u001b[1;33m\u001b[0m\u001b[1;33m\u001b[0m\u001b[0m\n\u001b[1;32m----> 4\u001b[1;33m \u001b[0mlis\u001b[0m\u001b[1;33m=\u001b[0m\u001b[0magent\u001b[0m\u001b[1;33m.\u001b[0m\u001b[0msolve\u001b[0m\u001b[1;33m(\u001b[0m\u001b[0mstate\u001b[0m\u001b[1;33m)\u001b[0m\u001b[1;33m\u001b[0m\u001b[1;33m\u001b[0m\u001b[0m\n\u001b[0m\u001b[0;32m      5\u001b[0m \u001b[0mprint\u001b[0m\u001b[1;33m(\u001b[0m\u001b[0mlen\u001b[0m\u001b[1;33m(\u001b[0m\u001b[0mlis\u001b[0m\u001b[1;33m)\u001b[0m\u001b[1;33m)\u001b[0m\u001b[1;33m\u001b[0m\u001b[1;33m\u001b[0m\u001b[0m\n\u001b[0;32m      6\u001b[0m \u001b[0mprint\u001b[0m\u001b[1;33m(\u001b[0m\u001b[0mlis\u001b[0m\u001b[1;33m[\u001b[0m\u001b[1;33m:\u001b[0m\u001b[1;33m:\u001b[0m\u001b[1;33m-\u001b[0m\u001b[1;36m1\u001b[0m\u001b[1;33m]\u001b[0m\u001b[1;33m)\u001b[0m\u001b[1;33m\u001b[0m\u001b[1;33m\u001b[0m\u001b[0m\n",
      "\u001b[1;32m<ipython-input-10-8354e333c8f3>\u001b[0m in \u001b[0;36msolve\u001b[1;34m(self, percept)\u001b[0m\n\u001b[0;32m    104\u001b[0m             \u001b[0mgoal\u001b[0m\u001b[1;33m=\u001b[0m\u001b[0mself\u001b[0m\u001b[1;33m.\u001b[0m\u001b[0mformulate_goal\u001b[0m\u001b[1;33m(\u001b[0m\u001b[0mstate\u001b[0m\u001b[1;33m)\u001b[0m\u001b[1;33m\u001b[0m\u001b[1;33m\u001b[0m\u001b[0m\n\u001b[0;32m    105\u001b[0m             \u001b[0mproblem\u001b[0m\u001b[1;33m=\u001b[0m\u001b[0mself\u001b[0m\u001b[1;33m.\u001b[0m\u001b[0mformulate_problem\u001b[0m\u001b[1;33m(\u001b[0m\u001b[0mgoal\u001b[0m\u001b[1;33m)\u001b[0m\u001b[1;33m\u001b[0m\u001b[1;33m\u001b[0m\u001b[0m\n\u001b[1;32m--> 106\u001b[1;33m             \u001b[0mself\u001b[0m\u001b[1;33m.\u001b[0m\u001b[0mseq\u001b[0m\u001b[1;33m=\u001b[0m\u001b[0mself\u001b[0m\u001b[1;33m.\u001b[0m\u001b[0msearch\u001b[0m\u001b[1;33m(\u001b[0m\u001b[0mproblem\u001b[0m\u001b[1;33m,\u001b[0m\u001b[1;34m\"A*\"\u001b[0m\u001b[1;33m)\u001b[0m\u001b[1;33m\u001b[0m\u001b[1;33m\u001b[0m\u001b[0m\n\u001b[0m\u001b[0;32m    107\u001b[0m             \u001b[1;32mif\u001b[0m \u001b[1;32mnot\u001b[0m \u001b[0mself\u001b[0m\u001b[1;33m.\u001b[0m\u001b[0mseq\u001b[0m\u001b[1;33m:\u001b[0m\u001b[1;33m\u001b[0m\u001b[1;33m\u001b[0m\u001b[0m\n\u001b[0;32m    108\u001b[0m                 \u001b[1;32mreturn\u001b[0m \u001b[1;32mNone\u001b[0m\u001b[1;33m\u001b[0m\u001b[1;33m\u001b[0m\u001b[0m\n",
      "\u001b[1;32m<ipython-input-10-8354e333c8f3>\u001b[0m in \u001b[0;36msearch\u001b[1;34m(self, problem, mode)\u001b[0m\n\u001b[0;32m     75\u001b[0m             \u001b[0mheapq\u001b[0m\u001b[1;33m.\u001b[0m\u001b[0mheappush\u001b[0m\u001b[1;33m(\u001b[0m\u001b[0mfrontier\u001b[0m\u001b[1;33m,\u001b[0m\u001b[1;33m(\u001b[0m\u001b[0mnode1\u001b[0m\u001b[1;33m.\u001b[0m\u001b[0mfvalue\u001b[0m\u001b[1;33m,\u001b[0m\u001b[0mnode1\u001b[0m\u001b[1;33m)\u001b[0m\u001b[1;33m)\u001b[0m\u001b[1;33m\u001b[0m\u001b[1;33m\u001b[0m\u001b[0m\n\u001b[0;32m     76\u001b[0m             \u001b[0mexplored_set\u001b[0m\u001b[1;33m=\u001b[0m\u001b[0mset\u001b[0m\u001b[1;33m(\u001b[0m\u001b[1;33m)\u001b[0m\u001b[1;33m\u001b[0m\u001b[1;33m\u001b[0m\u001b[0m\n\u001b[1;32m---> 77\u001b[1;33m             \u001b[0mprint\u001b[0m\u001b[1;33m(\u001b[0m\u001b[1;34m\"frontier - \"\u001b[0m\u001b[1;33m,\u001b[0m\u001b[1;33m[\u001b[0m\u001b[0mnodex\u001b[0m\u001b[1;33m.\u001b[0m\u001b[0mstate\u001b[0m \u001b[1;32mfor\u001b[0m \u001b[0mnodex\u001b[0m \u001b[1;32min\u001b[0m \u001b[0mfrontier\u001b[0m\u001b[1;33m]\u001b[0m\u001b[1;33m)\u001b[0m\u001b[1;33m\u001b[0m\u001b[1;33m\u001b[0m\u001b[0m\n\u001b[0m\u001b[0;32m     78\u001b[0m             \u001b[0mprint\u001b[0m\u001b[1;33m(\u001b[0m\u001b[1;34m\"explored - \"\u001b[0m\u001b[1;33m,\u001b[0m\u001b[1;33m[\u001b[0m\u001b[0mnodet\u001b[0m\u001b[1;33m.\u001b[0m\u001b[0mstate\u001b[0m \u001b[1;32mfor\u001b[0m \u001b[0mnodet\u001b[0m \u001b[1;32min\u001b[0m \u001b[0mexplored_set\u001b[0m\u001b[1;33m]\u001b[0m\u001b[1;33m)\u001b[0m\u001b[1;33m\u001b[0m\u001b[1;33m\u001b[0m\u001b[0m\n\u001b[0;32m     79\u001b[0m             \u001b[1;32mwhile\u001b[0m \u001b[0mfrontier\u001b[0m\u001b[1;33m:\u001b[0m\u001b[1;33m\u001b[0m\u001b[1;33m\u001b[0m\u001b[0m\n",
      "\u001b[1;32m<ipython-input-10-8354e333c8f3>\u001b[0m in \u001b[0;36m<listcomp>\u001b[1;34m(.0)\u001b[0m\n\u001b[0;32m     75\u001b[0m             \u001b[0mheapq\u001b[0m\u001b[1;33m.\u001b[0m\u001b[0mheappush\u001b[0m\u001b[1;33m(\u001b[0m\u001b[0mfrontier\u001b[0m\u001b[1;33m,\u001b[0m\u001b[1;33m(\u001b[0m\u001b[0mnode1\u001b[0m\u001b[1;33m.\u001b[0m\u001b[0mfvalue\u001b[0m\u001b[1;33m,\u001b[0m\u001b[0mnode1\u001b[0m\u001b[1;33m)\u001b[0m\u001b[1;33m)\u001b[0m\u001b[1;33m\u001b[0m\u001b[1;33m\u001b[0m\u001b[0m\n\u001b[0;32m     76\u001b[0m             \u001b[0mexplored_set\u001b[0m\u001b[1;33m=\u001b[0m\u001b[0mset\u001b[0m\u001b[1;33m(\u001b[0m\u001b[1;33m)\u001b[0m\u001b[1;33m\u001b[0m\u001b[1;33m\u001b[0m\u001b[0m\n\u001b[1;32m---> 77\u001b[1;33m             \u001b[0mprint\u001b[0m\u001b[1;33m(\u001b[0m\u001b[1;34m\"frontier - \"\u001b[0m\u001b[1;33m,\u001b[0m\u001b[1;33m[\u001b[0m\u001b[0mnodex\u001b[0m\u001b[1;33m.\u001b[0m\u001b[0mstate\u001b[0m \u001b[1;32mfor\u001b[0m \u001b[0mnodex\u001b[0m \u001b[1;32min\u001b[0m \u001b[0mfrontier\u001b[0m\u001b[1;33m]\u001b[0m\u001b[1;33m)\u001b[0m\u001b[1;33m\u001b[0m\u001b[1;33m\u001b[0m\u001b[0m\n\u001b[0m\u001b[0;32m     78\u001b[0m             \u001b[0mprint\u001b[0m\u001b[1;33m(\u001b[0m\u001b[1;34m\"explored - \"\u001b[0m\u001b[1;33m,\u001b[0m\u001b[1;33m[\u001b[0m\u001b[0mnodet\u001b[0m\u001b[1;33m.\u001b[0m\u001b[0mstate\u001b[0m \u001b[1;32mfor\u001b[0m \u001b[0mnodet\u001b[0m \u001b[1;32min\u001b[0m \u001b[0mexplored_set\u001b[0m\u001b[1;33m]\u001b[0m\u001b[1;33m)\u001b[0m\u001b[1;33m\u001b[0m\u001b[1;33m\u001b[0m\u001b[0m\n\u001b[0;32m     79\u001b[0m             \u001b[1;32mwhile\u001b[0m \u001b[0mfrontier\u001b[0m\u001b[1;33m:\u001b[0m\u001b[1;33m\u001b[0m\u001b[1;33m\u001b[0m\u001b[0m\n",
      "\u001b[1;31mAttributeError\u001b[0m: 'tuple' object has no attribute 'state'"
     ]
    }
   ],
   "source": [
    "state=\"Aizawl\"\n",
    "# state=[[1,3,4],[8,0,5],[7,2,6]]\n",
    "agent=SimpleProblemSolvingAgent(state,dic)\n",
    "lis=agent.solve(state)\n",
    "print(len(lis))\n",
    "print(lis[::-1])"
   ]
  },
  {
   "cell_type": "code",
   "execution_count": null,
   "metadata": {},
   "outputs": [],
   "source": []
  },
  {
   "cell_type": "code",
   "execution_count": null,
   "metadata": {},
   "outputs": [],
   "source": []
  }
 ],
 "metadata": {
  "kernelspec": {
   "display_name": "Python 3",
   "language": "python",
   "name": "python3"
  },
  "language_info": {
   "codemirror_mode": {
    "name": "ipython",
    "version": 3
   },
   "file_extension": ".py",
   "mimetype": "text/x-python",
   "name": "python",
   "nbconvert_exporter": "python",
   "pygments_lexer": "ipython3",
   "version": "3.8.1"
  }
 },
 "nbformat": 4,
 "nbformat_minor": 4
}
