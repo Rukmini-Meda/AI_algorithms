{
 "cells": [
  {
   "cell_type": "markdown",
   "metadata": {},
   "source": [
    "Class for problem according to the structure of AIMA textbook"
   ]
  },
  {
   "cell_type": "code",
   "execution_count": 6,
   "metadata": {},
   "outputs": [],
   "source": [
    "class Problem:\n",
    "    def __init__(self,initial_state,goal=None):\n",
    "        self.initial_state=initial_state\n",
    "        self.goal=goal\n",
    "        \n",
    "    def actions(self,state):\n",
    "        indices=[]\n",
    "        for i in range(3):\n",
    "            for j in range(3):\n",
    "                if state[i][j]==0:\n",
    "                    indices.append(i)\n",
    "                    indices.append(j)\n",
    "        if indices[0]+1<3:\n",
    "            actions.append(\"Down\")\n",
    "        if indices[0]-1>=0:\n",
    "            actions.append(\"Up\")\n",
    "        if indices[1]+1<3:\n",
    "            actions.append(\"Right\")\n",
    "        if indices[1]-1>=0:\n",
    "            actions.append(\"Left\")\n",
    "        return actions\n",
    "    \n",
    "    def result(self,state,action):\n",
    "        if action==\"Up\":\n",
    "            state[i][j],state[i-1][j]=state[i-1][j],state[i][j]\n",
    "        elif action==\"Down\":\n",
    "            state[i][j],state[i+1][j]=state[i+1][j],state[i][j]\n",
    "        elif action==\"Left\":\n",
    "            state[i][j],state[i][j-1]=state[i][j-1],state[i][j]\n",
    "        elif action==\"Right\":\n",
    "            state[i][j],state[i][j+1]=state[i][j+1],state[i][j]\n",
    "        return state\n",
    "    \n",
    "    def goalTest(self,state):\n",
    "        if state==self.goal:\n",
    "            return True\n",
    "        else:\n",
    "            return False\n",
    "        \n",
    "    def stepCost(self,state,action):\n",
    "        return 1\n",
    "        \n",
    "    def pathCost(self,state1,action,state2):\n",
    "        state2.pathCost=state1.pathcost+self.stepCost(state1,action)\n",
    "        \n",
    "        \n",
    "            "
   ]
  },
  {
   "cell_type": "markdown",
   "metadata": {},
   "source": [
    "Class for a node to denote states"
   ]
  },
  {
   "cell_type": "code",
   "execution_count": 8,
   "metadata": {},
   "outputs": [],
   "source": [
    "class Node:\n",
    "    def __init__(self,state,parent=None,action=None,path_cost=0):\n",
    "        self.state=state\n",
    "        self.parent=parent\n",
    "        self.action=action\n",
    "        self.path_cost=path_cost\n",
    "    \n",
    "    def solution(self,sol=[]):\n",
    "        sol.append(self.action)\n",
    "        if self.parent!=None:\n",
    "            solution(self.parent,sol)\n",
    "        else:\n",
    "            return sol\n",
    "        \n",
    "    \n",
    "    def child_node(self,problem,parent,action):\n",
    "        state=problem.result(parent.state,action)\n",
    "        pc=parent.path_cost+problem.stepCost(parent.state,action)\n",
    "        return Node(state,parent,action,pc)    "
   ]
  },
  {
   "cell_type": "markdown",
   "metadata": {},
   "source": [
    "Class for a simple problem solving agent. Here the agent is an 8-puzzle solver."
   ]
  },
  {
   "cell_type": "code",
   "execution_count": 24,
   "metadata": {},
   "outputs": [],
   "source": [
    "class SimpleProblemSolvingAgent:\n",
    "    def __init__(self,initial_state=None):\n",
    "        self.initial_state=initial_state\n",
    "        self.seq=[]\n",
    "        \n",
    "    def update_state(self,percept):\n",
    "        return percept\n",
    "    \n",
    "    def formulate_goal(self,state):\n",
    "        return [[0,1,2],[3,4,5],[6,7,8]]\n",
    "    \n",
    "    def formulate_problem(self,goal):\n",
    "        return Problem(self.initial_state,goal)\n",
    "    \n",
    "    def search(self,problem,mode=\"BFS\"):\n",
    "        node1=Node(problem.initial_state)\n",
    "        if problem.goalTest(node1.state):\n",
    "            return node1.solution()\n",
    "        frontier=[]\n",
    "        frontier.append(node1.state)\n",
    "        explored_set=set()\n",
    "        if not frontier:\n",
    "            return None\n",
    "        node=frontier.pop(0)\n",
    "        explored_set.add(node)\n",
    "        for act in problem.actions(node.state):\n",
    "            child=node.child_node(problem,node,act)\n",
    "            if child.state not in frontier and child.state not in explored_set:\n",
    "                if problem.goalTest(child.state):\n",
    "                    return solution(child)\n",
    "                frontier.append(child.state)\n",
    "    \n",
    "    def solve(self,percept):\n",
    "        state=self.update_state(percept)\n",
    "        if not self.seq:\n",
    "            goal=self.formulate_goal(state)\n",
    "            problem=self.formulate_problem(goal)\n",
    "            self.seq=self.search(problem)\n",
    "            if not self.seq:\n",
    "                return None\n",
    "        action=self.seq[0]\n",
    "        self.seq.pop(0)\n",
    "        return action"
   ]
  },
  {
   "cell_type": "code",
   "execution_count": 25,
   "metadata": {},
   "outputs": [
    {
     "ename": "TypeError",
     "evalue": "unhashable type: 'list'",
     "output_type": "error",
     "traceback": [
      "\u001b[1;31m---------------------------------------------------------------------------\u001b[0m",
      "\u001b[1;31mTypeError\u001b[0m                                 Traceback (most recent call last)",
      "\u001b[1;32m<ipython-input-25-cace0a0c15e5>\u001b[0m in \u001b[0;36m<module>\u001b[1;34m\u001b[0m\n\u001b[0;32m      1\u001b[0m \u001b[0mstate\u001b[0m\u001b[1;33m=\u001b[0m\u001b[1;33m[\u001b[0m\u001b[1;33m[\u001b[0m\u001b[1;36m1\u001b[0m\u001b[1;33m,\u001b[0m\u001b[1;36m0\u001b[0m\u001b[1;33m,\u001b[0m\u001b[1;36m2\u001b[0m\u001b[1;33m]\u001b[0m\u001b[1;33m,\u001b[0m\u001b[1;33m[\u001b[0m\u001b[1;36m3\u001b[0m\u001b[1;33m,\u001b[0m\u001b[1;36m4\u001b[0m\u001b[1;33m,\u001b[0m\u001b[1;36m5\u001b[0m\u001b[1;33m]\u001b[0m\u001b[1;33m,\u001b[0m\u001b[1;33m[\u001b[0m\u001b[1;36m6\u001b[0m\u001b[1;33m,\u001b[0m\u001b[1;36m7\u001b[0m\u001b[1;33m,\u001b[0m\u001b[1;36m8\u001b[0m\u001b[1;33m]\u001b[0m\u001b[1;33m]\u001b[0m\u001b[1;33m\u001b[0m\u001b[1;33m\u001b[0m\u001b[0m\n\u001b[0;32m      2\u001b[0m \u001b[0magent\u001b[0m\u001b[1;33m=\u001b[0m\u001b[0mSimpleProblemSolvingAgent\u001b[0m\u001b[1;33m(\u001b[0m\u001b[0mstate\u001b[0m\u001b[1;33m)\u001b[0m\u001b[1;33m\u001b[0m\u001b[1;33m\u001b[0m\u001b[0m\n\u001b[1;32m----> 3\u001b[1;33m \u001b[0mlis\u001b[0m\u001b[1;33m=\u001b[0m\u001b[0magent\u001b[0m\u001b[1;33m.\u001b[0m\u001b[0msolve\u001b[0m\u001b[1;33m(\u001b[0m\u001b[0mstate\u001b[0m\u001b[1;33m)\u001b[0m\u001b[1;33m\u001b[0m\u001b[1;33m\u001b[0m\u001b[0m\n\u001b[0m\u001b[0;32m      4\u001b[0m \u001b[0mprint\u001b[0m\u001b[1;33m(\u001b[0m\u001b[0mlis\u001b[0m\u001b[1;33m)\u001b[0m\u001b[1;33m\u001b[0m\u001b[1;33m\u001b[0m\u001b[0m\n",
      "\u001b[1;32m<ipython-input-24-7e3cf3296087>\u001b[0m in \u001b[0;36msolve\u001b[1;34m(self, percept)\u001b[0m\n\u001b[0;32m     36\u001b[0m             \u001b[0mgoal\u001b[0m\u001b[1;33m=\u001b[0m\u001b[0mself\u001b[0m\u001b[1;33m.\u001b[0m\u001b[0mformulate_goal\u001b[0m\u001b[1;33m(\u001b[0m\u001b[0mstate\u001b[0m\u001b[1;33m)\u001b[0m\u001b[1;33m\u001b[0m\u001b[1;33m\u001b[0m\u001b[0m\n\u001b[0;32m     37\u001b[0m             \u001b[0mproblem\u001b[0m\u001b[1;33m=\u001b[0m\u001b[0mself\u001b[0m\u001b[1;33m.\u001b[0m\u001b[0mformulate_problem\u001b[0m\u001b[1;33m(\u001b[0m\u001b[0mgoal\u001b[0m\u001b[1;33m)\u001b[0m\u001b[1;33m\u001b[0m\u001b[1;33m\u001b[0m\u001b[0m\n\u001b[1;32m---> 38\u001b[1;33m             \u001b[0mself\u001b[0m\u001b[1;33m.\u001b[0m\u001b[0mseq\u001b[0m\u001b[1;33m=\u001b[0m\u001b[0mself\u001b[0m\u001b[1;33m.\u001b[0m\u001b[0msearch\u001b[0m\u001b[1;33m(\u001b[0m\u001b[0mproblem\u001b[0m\u001b[1;33m)\u001b[0m\u001b[1;33m\u001b[0m\u001b[1;33m\u001b[0m\u001b[0m\n\u001b[0m\u001b[0;32m     39\u001b[0m             \u001b[1;32mif\u001b[0m \u001b[1;32mnot\u001b[0m \u001b[0mself\u001b[0m\u001b[1;33m.\u001b[0m\u001b[0mseq\u001b[0m\u001b[1;33m:\u001b[0m\u001b[1;33m\u001b[0m\u001b[1;33m\u001b[0m\u001b[0m\n\u001b[0;32m     40\u001b[0m                 \u001b[1;32mreturn\u001b[0m \u001b[1;32mNone\u001b[0m\u001b[1;33m\u001b[0m\u001b[1;33m\u001b[0m\u001b[0m\n",
      "\u001b[1;32m<ipython-input-24-7e3cf3296087>\u001b[0m in \u001b[0;36msearch\u001b[1;34m(self, problem, mode)\u001b[0m\n\u001b[0;32m     23\u001b[0m             \u001b[1;32mreturn\u001b[0m \u001b[1;32mNone\u001b[0m\u001b[1;33m\u001b[0m\u001b[1;33m\u001b[0m\u001b[0m\n\u001b[0;32m     24\u001b[0m         \u001b[0mnode\u001b[0m\u001b[1;33m=\u001b[0m\u001b[0mfrontier\u001b[0m\u001b[1;33m.\u001b[0m\u001b[0mpop\u001b[0m\u001b[1;33m(\u001b[0m\u001b[1;36m0\u001b[0m\u001b[1;33m)\u001b[0m\u001b[1;33m\u001b[0m\u001b[1;33m\u001b[0m\u001b[0m\n\u001b[1;32m---> 25\u001b[1;33m         \u001b[0mexplored_set\u001b[0m\u001b[1;33m.\u001b[0m\u001b[0madd\u001b[0m\u001b[1;33m(\u001b[0m\u001b[0mnode\u001b[0m\u001b[1;33m)\u001b[0m\u001b[1;33m\u001b[0m\u001b[1;33m\u001b[0m\u001b[0m\n\u001b[0m\u001b[0;32m     26\u001b[0m         \u001b[1;32mfor\u001b[0m \u001b[0mact\u001b[0m \u001b[1;32min\u001b[0m \u001b[0mproblem\u001b[0m\u001b[1;33m.\u001b[0m\u001b[0mactions\u001b[0m\u001b[1;33m(\u001b[0m\u001b[0mnode\u001b[0m\u001b[1;33m.\u001b[0m\u001b[0mstate\u001b[0m\u001b[1;33m)\u001b[0m\u001b[1;33m:\u001b[0m\u001b[1;33m\u001b[0m\u001b[1;33m\u001b[0m\u001b[0m\n\u001b[0;32m     27\u001b[0m             \u001b[0mchild\u001b[0m\u001b[1;33m=\u001b[0m\u001b[0mnode\u001b[0m\u001b[1;33m.\u001b[0m\u001b[0mchild_node\u001b[0m\u001b[1;33m(\u001b[0m\u001b[0mproblem\u001b[0m\u001b[1;33m,\u001b[0m\u001b[0mnode\u001b[0m\u001b[1;33m,\u001b[0m\u001b[0mact\u001b[0m\u001b[1;33m)\u001b[0m\u001b[1;33m\u001b[0m\u001b[1;33m\u001b[0m\u001b[0m\n",
      "\u001b[1;31mTypeError\u001b[0m: unhashable type: 'list'"
     ]
    }
   ],
   "source": [
    "state=[[1,0,2],[3,4,5],[6,7,8]]\n",
    "agent=SimpleProblemSolvingAgent(state)\n",
    "lis=agent.solve(state)\n",
    "print(lis)"
   ]
  },
  {
   "cell_type": "code",
   "execution_count": null,
   "metadata": {},
   "outputs": [],
   "source": []
  }
 ],
 "metadata": {
  "kernelspec": {
   "display_name": "Python 3",
   "language": "python",
   "name": "python3"
  },
  "language_info": {
   "codemirror_mode": {
    "name": "ipython",
    "version": 3
   },
   "file_extension": ".py",
   "mimetype": "text/x-python",
   "name": "python",
   "nbconvert_exporter": "python",
   "pygments_lexer": "ipython3",
   "version": "3.8.1"
  }
 },
 "nbformat": 4,
 "nbformat_minor": 4
}
