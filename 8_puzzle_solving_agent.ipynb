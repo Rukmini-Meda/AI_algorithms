{
 "cells": [
  {
   "cell_type": "markdown",
   "metadata": {},
   "source": [
    "## Class for problem according to the structure of AIMA textbook"
   ]
  },
  {
   "cell_type": "code",
   "execution_count": 1,
   "metadata": {},
   "outputs": [],
   "source": [
    "class Problem:\n",
    "    def __init__(self,initial_state,goal=None):\n",
    "        self.initial_state=initial_state\n",
    "        self.goal=goal\n",
    "        \n",
    "    def actions(self,state):\n",
    "        indices=[]\n",
    "        actions=[]\n",
    "        for i in range(3):\n",
    "            for j in range(3):\n",
    "                if state[i][j]==0:\n",
    "                    indices.append(i)\n",
    "                    indices.append(j)\n",
    "        if indices[0]+1<3:\n",
    "            actions.append(\"Down\")\n",
    "        if indices[0]-1>=0:\n",
    "            actions.append(\"Up\")\n",
    "        if indices[1]+1<3:\n",
    "            actions.append(\"Right\")\n",
    "        if indices[1]-1>=0:\n",
    "            actions.append(\"Left\")\n",
    "        return actions\n",
    "    \n",
    "    def result(self,state,action):\n",
    "        indices=[]\n",
    "        for i in range(3):\n",
    "            for j in range(3):\n",
    "                if state[i][j]==0:\n",
    "                    indices.append(i)\n",
    "                    indices.append(j)\n",
    "        res=[[0]*3,[0]*3,[0]*3]\n",
    "        for i in range(0,3):\n",
    "            for j in range(0,3):\n",
    "                res[i][j]=state[i][j]\n",
    "        if action==\"Up\":\n",
    "            res[indices[0]][indices[1]],res[indices[0]-1][indices[1]]=res[indices[0]-1][indices[1]],res[indices[0]][indices[1]]\n",
    "        elif action==\"Down\":\n",
    "            res[indices[0]][indices[1]],res[indices[0]+1][indices[1]]=res[indices[0]+1][indices[1]],res[indices[0]][indices[1]]\n",
    "        elif action==\"Left\":\n",
    "            res[indices[0]][indices[1]],res[indices[0]][indices[1]-1]=res[indices[0]][indices[1]-1],res[indices[0]][indices[1]]\n",
    "        elif action==\"Right\":\n",
    "            res[indices[0]][indices[1]],res[indices[0]][indices[1]+1]=res[indices[0]][indices[1]+1],res[indices[0]][indices[1]]\n",
    "        else:\n",
    "            return state\n",
    "        return res\n",
    "    \n",
    "    \n",
    "    def goalTest(self,state):\n",
    "        if state==self.goal:\n",
    "            return True\n",
    "        else:\n",
    "            return False\n",
    "        \n",
    "    def stepCost(self,state,action):\n",
    "        return 1\n",
    "        \n",
    "    def pathCost(self,state1,action,state2):\n",
    "        state2.pathCost=state1.pathcost+self.stepCost(state1,action)\n",
    "        \n",
    "        \n"
   ]
  },
  {
   "cell_type": "markdown",
   "metadata": {},
   "source": [
    "## Class for a node to denote states"
   ]
  },
  {
   "cell_type": "code",
   "execution_count": 2,
   "metadata": {},
   "outputs": [],
   "source": [
    "    class Node:\n",
    "        def __init__(self,state,parent=None,action=None,path_cost=0,heuristic=0,fvalue=0):\n",
    "            self.state=state\n",
    "            self.parent=parent\n",
    "            self.action=action\n",
    "            self.path_cost=path_cost\n",
    "            self.heuristic=heuristic\n",
    "            self.fvalue=fvalue\n",
    "            if parent!=None:\n",
    "                self.path_cost=self.parent.path_cost+1\n",
    "\n",
    "        def __lt__(self,other):\n",
    "            return self.state<other.state\n",
    "\n",
    "        def solution(self):\n",
    "            sol=[]\n",
    "            while self.parent!=None:\n",
    "                sol.append(self.action)\n",
    "                self=self.parent\n",
    "            return sol\n",
    "\n",
    "\n",
    "        def child_node(self,problem,action):\n",
    "            state=problem.result(self.state,action)\n",
    "            pc=self.path_cost+problem.stepCost(self.state,action)\n",
    "            childNode=Node(state)\n",
    "            childNode.parent=self\n",
    "            childNode.action=action\n",
    "            return childNode\n",
    "\n",
    "        def find_heuristic(self,problem):\n",
    "            for i in range(3):\n",
    "                for j in range(3):\n",
    "                    if self.state[i][j]!=problem.goal[i][j]:\n",
    "                        self.heuristic+=1\n",
    "\n",
    "        def find_fvalue(self,problem):\n",
    "            self.find_heuristic(problem)\n",
    "            self.fvalue=self.path_cost+self.heuristic\n",
    "\n"
   ]
  },
  {
   "cell_type": "markdown",
   "metadata": {},
   "source": [
    "## Class for a simple problem solving agent. Here the agent is an 8-puzzle solver."
   ]
  },
  {
   "cell_type": "code",
   "execution_count": 3,
   "metadata": {},
   "outputs": [],
   "source": [
    "import heapq"
   ]
  },
  {
   "cell_type": "code",
   "execution_count": 4,
   "metadata": {},
   "outputs": [],
   "source": [
    "def breadth_first_graph_search(problem):\n",
    "    node1=Node(problem.initial_state)\n",
    "    if problem.goalTest(node1.state):\n",
    "        return node1.solution()[::-1]\n",
    "    frontier=[]\n",
    "    frontier.append(node1)\n",
    "    explored_set=set()        \n",
    "    while frontier:\n",
    "        temp=frontier.pop(0)\n",
    "        explored_set.add(temp)\n",
    "        lis_act=problem.actions(temp.state)\n",
    "        for act in lis_act:\n",
    "            child=temp.child_node(problem,act)\n",
    "            if child.state not in [node2.state for node2 in frontier] and child.state not in [node3.state for node3 in explored_set]:\n",
    "                if problem.goalTest(child.state):\n",
    "                    return child.solution()[::-1]\n",
    "                frontier.append(child)\n",
    "    "
   ]
  },
  {
   "cell_type": "code",
   "execution_count": 5,
   "metadata": {},
   "outputs": [],
   "source": [
    "def depth_first_graph_search(problem):\n",
    "    node1=Node(problem.initial_state)\n",
    "    frontier=[]\n",
    "    frontier.append(node1)\n",
    "    explored_set=set()\n",
    "    while frontier:\n",
    "        temp=frontier.pop()\n",
    "        if problem.goalTest(temp.state):\n",
    "            return temp.solution()[::-1]\n",
    "        explored_set.add(temp)\n",
    "        lis_act=problem.actions(temp.state)\n",
    "        for act in lis_act:\n",
    "            child=temp.child_node(problem,act)\n",
    "            if child.state not in [node2.state for node2 in frontier] and child.state not in [node3.state for node3 in explored_set]:\n",
    "                frontier.append(child)\n",
    "    "
   ]
  },
  {
   "cell_type": "code",
   "execution_count": 6,
   "metadata": {},
   "outputs": [],
   "source": [
    "def greedy_best_first_search(problem):\n",
    "    node1=Node(problem.initial_state)\n",
    "    node1.find_heuristic(problem)\n",
    "    frontier=[]\n",
    "    heapq.heappush(frontier,(node1.heuristic,node1))\n",
    "    explored_set=set()\n",
    "    while frontier:\n",
    "        temp=heapq.heappop(frontier)\n",
    "        if problem.goalTest(temp[1].state):\n",
    "            return temp[1].solution()\n",
    "        explored_set.add(temp[1])\n",
    "        lis_act=problem.actions(temp[1].state)\n",
    "        for act in lis_act:\n",
    "            child=temp[1].child_node(problem,act)\n",
    "            child.find_heuristic(problem)\n",
    "            if child.state not in [nodex[1].state for nodex in frontier] and child.state not in [noder.state for noder in explored_set]:\n",
    "                heapq.heappush(frontier,(child.heuristic,child))\n"
   ]
  },
  {
   "cell_type": "code",
   "execution_count": 7,
   "metadata": {},
   "outputs": [],
   "source": [
    "def A_star_algorithm(problem):\n",
    "    node1=Node(problem.initial_state)\n",
    "    node1.find_fvalue(problem)\n",
    "    frontier=[]\n",
    "    heapq.heappush(frontier,(node1.fvalue,node1))\n",
    "    explored_set=set()\n",
    "    while frontier:\n",
    "        temp=heapq.heappop(frontier)\n",
    "        if problem.goalTest(temp[1].state):\n",
    "            return temp[1].solution()[::-1]\n",
    "        explored_set.add(temp[1])\n",
    "        lis_act=problem.actions(temp[1].state)\n",
    "        for act in lis_act:\n",
    "            child=temp[1].child_node(problem,act)\n",
    "            child.find_fvalue(problem)\n",
    "            if child.state not in [nodex[1].state for nodex in frontier] and child.state not in [noder.state for noder in explored_set]:\n",
    "                heapq.heappush(frontier,(child.fvalue,child))\n",
    "    "
   ]
  },
  {
   "cell_type": "code",
   "execution_count": 8,
   "metadata": {},
   "outputs": [],
   "source": [
    "class SimpleProblemSolvingAgent:\n",
    "    def __init__(self,initial_state=None):\n",
    "        self.initial_state=initial_state\n",
    "        self.seq=[]\n",
    "        \n",
    "    def update_state(self,percept):\n",
    "        return percept\n",
    "    \n",
    "    def formulate_goal(self,state):\n",
    "        return [[0,1,2],[3,4,5],[6,7,8]]\n",
    "    \n",
    "    def formulate_problem(self,goal):\n",
    "        return Problem(self.initial_state,goal)\n",
    "    \n",
    "    def search(self,problem,mode):\n",
    "        if mode==\"BFS\":\n",
    "            sequence=breadth_first_graph_search(problem)\n",
    "        elif mode==\"DFS\":\n",
    "            sequence=depth_first_graph_search(problem)\n",
    "        elif mode==\"GBFS\":\n",
    "            sequence=greedy_best_first_search(problem)\n",
    "        elif mode==\"A*\":\n",
    "            sequence=A_star_algorithm(problem)\n",
    "        else:\n",
    "            print(\"Invalid mode!\")\n",
    "        return sequence\n",
    "            \n",
    "    def solve(self,percept):\n",
    "        state=self.update_state(percept)\n",
    "        if not self.seq:\n",
    "            goal=self.formulate_goal(state)\n",
    "            problem=self.formulate_problem(goal)\n",
    "            self.seq=self.search(problem,\"BFS\")\n",
    "            if not self.seq:\n",
    "                return None\n",
    "        return self.seq\n",
    "\n"
   ]
  },
  {
   "cell_type": "code",
   "execution_count": 9,
   "metadata": {},
   "outputs": [
    {
     "name": "stdout",
     "output_type": "stream",
     "text": [
      "['Left']\n"
     ]
    }
   ],
   "source": [
    "# state=[[7,2,4],[5,0,6],[8,3,1]]\n",
    "state=[[1,0,2],[3,4,5],[6,7,8]]\n",
    "agent=SimpleProblemSolvingAgent(state)\n",
    "lis=agent.solve(state)\n",
    "print(lis)"
   ]
  },
  {
   "cell_type": "code",
   "execution_count": null,
   "metadata": {},
   "outputs": [],
   "source": []
  },
  {
   "cell_type": "code",
   "execution_count": null,
   "metadata": {},
   "outputs": [],
   "source": []
  },
  {
   "cell_type": "code",
   "execution_count": null,
   "metadata": {},
   "outputs": [],
   "source": []
  }
 ],
 "metadata": {
  "kernelspec": {
   "display_name": "Python 3",
   "language": "python",
   "name": "python3"
  },
  "language_info": {
   "codemirror_mode": {
    "name": "ipython",
    "version": 3
   },
   "file_extension": ".py",
   "mimetype": "text/x-python",
   "name": "python",
   "nbconvert_exporter": "python",
   "pygments_lexer": "ipython3",
   "version": "3.8.1"
  }
 },
 "nbformat": 4,
 "nbformat_minor": 4
}
